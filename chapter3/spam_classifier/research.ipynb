{
 "cells": [
  {
   "cell_type": "code",
   "execution_count": 17,
   "metadata": {},
   "outputs": [],
   "source": [
    "from bs4 import BeautifulSoup\n",
    "from collections import Counter\n",
    "import os\n",
    "import sys\n",
    "import urlextract\n",
    "import re\n",
    "import nltk\n",
    "import numpy as np"
   ]
  },
  {
   "cell_type": "code",
   "execution_count": 18,
   "metadata": {},
   "outputs": [],
   "source": [
    "def remove_urls(text):\n",
    "    url_extractor = urlextract.URLExtract()\n",
    "    urls = []\n",
    "    raw_urls = []\n",
    "    try:\n",
    "        raw_urls = url_extractor.find_urls(text)\n",
    "    except:\n",
    "        dummy = 3\n",
    "    for url in raw_urls:\n",
    "        urls.append(str(url))\n",
    "    urls.sort(key=lambda url: len(url), reverse=True)\n",
    "    for url in urls:\n",
    "        text = text.replace(url, \" URL \")\n",
    "    return text\n",
    "\n",
    "def remove_nums(text):\n",
    "    text = re.sub(r'\\d+(?:\\.\\d*(?:[eE]\\d+))?', ' NUMBER ', text)\n",
    "    return text\n",
    "\n",
    "def remove_punctuation(text):\n",
    "    text = re.sub(r'\\W+', ' ', text, flags=re.M)\n",
    "    return text\n",
    "\n",
    "def stemm_words(text):\n",
    "    stemmer = nltk.PorterStemmer()\n",
    "    for word in text.split():\n",
    "        changed = stemmer.stem(word)\n",
    "        if(changed != word):\n",
    "            text = text.replace(word, changed)\n",
    "    return text\n",
    "\n",
    "def create_vocabulary(data):\n",
    "    vocabulary = []\n",
    "    for idx, sample in enumerate(data):\n",
    "        for word in sample.split():\n",
    "            vocabulary.append(word)\n",
    "    vocabulary = set(vocabulary)\n",
    "    return vocabulary\n",
    "\n",
    "def transform_to_vector(text, vocabulary):\n",
    "    counter = Counter()\n",
    "    vector = []\n",
    "    \n",
    "    for word in vocabulary:\n",
    "        counter[word] = 0\n",
    "    \n",
    "    for word in text:\n",
    "        counter[word] += 1\n",
    "\n",
    "    for key, value in counter.items():\n",
    "        vector.append(value)\n",
    "        if(len(vector) == len(vocabulary)):\n",
    "            break\n",
    "    vector = np.asarray(vector)\n",
    "    return vector\n",
    "\n",
    "def samples_to_vectors(texts, vocabulary):\n",
    "    vectors = []\n",
    "    for text in texts:\n",
    "        vectors.append(transform_to_vector(text, vocabulary))\n",
    "\n",
    "    return vectors\n",
    "\n",
    "def get_samples_from_file(path, limit = 9999999):\n",
    "    data = []\n",
    "    idx = 0\n",
    "    for file in os.listdir(path):\n",
    "        current = os.path.join(path, file)\n",
    "        soap = BeautifulSoup(open(current, \"rb\"))\n",
    "        text = soap.get_text()\n",
    "        text = remove_urls(text)\n",
    "        text = remove_nums(text)\n",
    "        text = remove_punctuation(text)\n",
    "        text = text.lower()\n",
    "        text = stemm_words(text)\n",
    "        data.append(text)\n",
    "        idx = idx + 1\n",
    "        if(idx >= limit):\n",
    "            break \n",
    "    return data"
   ]
  },
  {
   "cell_type": "code",
   "execution_count": 27,
   "metadata": {},
   "outputs": [
    {
     "name": "stderr",
     "output_type": "stream",
     "text": [
      "/usr/lib/python3/dist-packages/bs4/__init__.py:166: UserWarning: No parser was explicitly specified, so I'm using the best available HTML parser for this system (\"lxml\"). This usually isn't a problem, but if you run this code on another system, or in a different virtual environment, it may use a different parser and behave differently.\n",
      "\n",
      "To get rid of this warning, change this:\n",
      "\n",
      " BeautifulSoup([your markup])\n",
      "\n",
      "to this:\n",
      "\n",
      " BeautifulSoup([your markup], \"lxml\")\n",
      "\n",
      "  markup_type=markup_type))\n"
     ]
    }
   ],
   "source": [
    "spam_data = get_samples_from_file('rsc/spam')\n",
    "eham_data = get_samples_from_file('rsc/easy_ham')"
   ]
  },
  {
   "cell_type": "code",
   "execution_count": 28,
   "metadata": {},
   "outputs": [
    {
     "name": "stdout",
     "output_type": "stream",
     "text": [
      "3052\n",
      "501\n",
      "2551\n"
     ]
    }
   ],
   "source": [
    "spam_size = len(spam_data)\n",
    "eham_size = len(eham_data)\n",
    "\n",
    "all_data = spam_data.copy()\n",
    "all_data.extend(eham_data)\n",
    "\n",
    "print(len(all_data))\n",
    "print(len(spam_data))\n",
    "print(len(eham_data))"
   ]
  },
  {
   "cell_type": "code",
   "execution_count": 29,
   "metadata": {},
   "outputs": [
    {
     "name": "stdout",
     "output_type": "stream",
     "text": [
      "88395\n"
     ]
    }
   ],
   "source": [
    "vocabulary = create_vocabulary(all_data)\n",
    "print(len(vocabulary))"
   ]
  },
  {
   "cell_type": "code",
   "execution_count": 30,
   "metadata": {},
   "outputs": [],
   "source": [
    "X = samples_to_vectors(all_data, vocabulary)\n",
    "y = np.array([0] * spam_size + [1] * eham_size)"
   ]
  },
  {
   "cell_type": "code",
   "execution_count": 31,
   "metadata": {},
   "outputs": [],
   "source": [
    "from sklearn.model_selection import train_test_split\n",
    "\n",
    "X_train, X_test, y_train, y_test = train_test_split(X, y, test_size=0.2, random_state=42)"
   ]
  },
  {
   "cell_type": "code",
   "execution_count": 32,
   "metadata": {},
   "outputs": [
    {
     "name": "stderr",
     "output_type": "stream",
     "text": [
      "[Parallel(n_jobs=1)]: Using backend SequentialBackend with 1 concurrent workers.\n"
     ]
    },
    {
     "name": "stdout",
     "output_type": "stream",
     "text": [
      "[CV]  ................................................................\n"
     ]
    },
    {
     "name": "stderr",
     "output_type": "stream",
     "text": [
      "/usr/local/lib/python3.5/dist-packages/sklearn/linear_model/logistic.py:758: ConvergenceWarning: lbfgs failed to converge. Increase the number of iterations.\n",
      "  \"of iterations.\", ConvergenceWarning)\n"
     ]
    },
    {
     "name": "stdout",
     "output_type": "stream",
     "text": [
      "[CV] ....................... , score=0.9201474201474201, total=  21.5s\n",
      "[CV]  ................................................................\n"
     ]
    },
    {
     "name": "stderr",
     "output_type": "stream",
     "text": [
      "[Parallel(n_jobs=1)]: Done   1 out of   1 | elapsed:   21.5s remaining:    0.0s\n",
      "/usr/local/lib/python3.5/dist-packages/sklearn/linear_model/logistic.py:758: ConvergenceWarning: lbfgs failed to converge. Increase the number of iterations.\n",
      "  \"of iterations.\", ConvergenceWarning)\n"
     ]
    },
    {
     "name": "stdout",
     "output_type": "stream",
     "text": [
      "[CV] ....................... , score=0.9324324324324325, total=  22.2s\n",
      "[CV]  ................................................................\n"
     ]
    },
    {
     "name": "stderr",
     "output_type": "stream",
     "text": [
      "[Parallel(n_jobs=1)]: Done   2 out of   2 | elapsed:   43.7s remaining:    0.0s\n",
      "/usr/local/lib/python3.5/dist-packages/sklearn/linear_model/logistic.py:758: ConvergenceWarning: lbfgs failed to converge. Increase the number of iterations.\n",
      "  \"of iterations.\", ConvergenceWarning)\n"
     ]
    },
    {
     "name": "stdout",
     "output_type": "stream",
     "text": [
      "[CV] ....................... , score=0.9384993849938499, total=  27.5s\n"
     ]
    },
    {
     "name": "stderr",
     "output_type": "stream",
     "text": [
      "[Parallel(n_jobs=1)]: Done   3 out of   3 | elapsed:  1.2min finished\n"
     ]
    },
    {
     "data": {
      "text/plain": [
       "0.9303597458579008"
      ]
     },
     "execution_count": 32,
     "metadata": {},
     "output_type": "execute_result"
    }
   ],
   "source": [
    "from sklearn.linear_model import LogisticRegression\n",
    "from sklearn.model_selection import cross_val_score\n",
    "\n",
    "log_clf = LogisticRegression(solver=\"lbfgs\", random_state=42)\n",
    "score = cross_val_score(log_clf, np.asarray(X_train), y_train, cv=3, verbose=3)\n",
    "score.mean()"
   ]
  },
  {
   "cell_type": "code",
   "execution_count": 33,
   "metadata": {},
   "outputs": [
    {
     "name": "stderr",
     "output_type": "stream",
     "text": [
      "/usr/local/lib/python3.5/dist-packages/sklearn/linear_model/logistic.py:758: ConvergenceWarning: lbfgs failed to converge. Increase the number of iterations.\n",
      "  \"of iterations.\", ConvergenceWarning)\n"
     ]
    },
    {
     "name": "stdout",
     "output_type": "stream",
     "text": [
      "Precision: 92.83%\n",
      "Recall: 96.38%\n"
     ]
    }
   ],
   "source": [
    "from sklearn.metrics import precision_score, recall_score\n",
    "\n",
    "log_clf.fit(np.asarray(X_train), y_train)\n",
    "\n",
    "y_pred = log_clf.predict(np.asarray(X_test))\n",
    "\n",
    "print(\"Precision: {:.2f}%\".format(100 * precision_score(y_test, y_pred)))\n",
    "print(\"Recall: {:.2f}%\".format(100 * recall_score(y_test, y_pred)))"
   ]
  },
  {
   "cell_type": "code",
   "execution_count": null,
   "metadata": {},
   "outputs": [],
   "source": []
  }
 ],
 "metadata": {
  "kernelspec": {
   "display_name": "Python 3",
   "language": "python",
   "name": "python3"
  },
  "language_info": {
   "codemirror_mode": {
    "name": "ipython",
    "version": 3
   },
   "file_extension": ".py",
   "mimetype": "text/x-python",
   "name": "python",
   "nbconvert_exporter": "python",
   "pygments_lexer": "ipython3",
   "version": "3.5.2"
  }
 },
 "nbformat": 4,
 "nbformat_minor": 2
}
