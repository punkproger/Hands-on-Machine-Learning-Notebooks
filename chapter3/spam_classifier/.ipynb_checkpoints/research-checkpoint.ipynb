{
 "cells": [
  {
   "cell_type": "code",
   "execution_count": 50,
   "metadata": {},
   "outputs": [],
   "source": [
    "from bs4 import BeautifulSoup\n",
    "import os\n",
    "import sys\n",
    "import urlextract\n",
    "import re\n",
    "import nltk"
   ]
  },
  {
   "cell_type": "code",
   "execution_count": 51,
   "metadata": {},
   "outputs": [],
   "source": [
    "def remove_urls(text):\n",
    "    url_extractor = urlextract.URLExtract()\n",
    "    urls = []\n",
    "    raw_urls = []\n",
    "    try:\n",
    "        raw_urls = url_extractor.find_urls(text)\n",
    "    except:\n",
    "        dummy = 3\n",
    "    for url in raw_urls:\n",
    "        urls.append(str(url))\n",
    "    urls.sort(key=lambda url: len(url), reverse=True)\n",
    "    for url in urls:\n",
    "        text = text.replace(url, \" URL \")\n",
    "    return text\n",
    "\n",
    "def remove_nums(text):\n",
    "    text = re.sub(r'\\d+(?:\\.\\d*(?:[eE]\\d+))?', ' NUMBER ', text)\n",
    "    return text\n",
    "\n",
    "def remove_punctuation(text):\n",
    "    text = re.sub(r'\\W+', ' ', text, flags=re.M)\n",
    "    return text\n",
    "\n",
    "def stemm_words(text):\n",
    "    stemmer = nltk.PorterStemmer()\n",
    "    for word in text.split():\n",
    "        changed = stemmer.stem(word)\n",
    "        if(changed != word):\n",
    "            text = text.replace(word, changed)\n",
    "    return text\n",
    "\n",
    "def create_vocabulary(data):\n",
    "    vocabulary = []\n",
    "    for idx, sample in enumerate(data):\n",
    "        for word in sample.split():\n",
    "            vocabulary.append(word)\n",
    "    vocabulary = set(vocabulary)\n",
    "    return vocabulary\n",
    "\n",
    "def get_samples_from_file(path, limit = 9999999):\n",
    "    data = []\n",
    "    idx = 0\n",
    "    for file in os.listdir(path):\n",
    "        current = os.path.join(path, file)\n",
    "        soap = BeautifulSoup(open(current, \"rb\"))\n",
    "        text = soap.get_text()\n",
    "        text = remove_urls(text)\n",
    "        text = remove_nums(text)\n",
    "        text = remove_punctuation(text)\n",
    "        text = text.lower()\n",
    "        text = stemm_words(text)\n",
    "        data.append(text)\n",
    "        idx = idx + 1\n",
    "        if(idx >= limit):\n",
    "            break \n",
    "    return data"
   ]
  },
  {
   "cell_type": "code",
   "execution_count": 52,
   "metadata": {},
   "outputs": [],
   "source": [
    "spam_data = get_samples_from_file('rsc/spam', 10)\n",
    "eham_data = get_samples_from_file('rsc/easy_ham', 1000)"
   ]
  },
  {
   "cell_type": "code",
   "execution_count": 53,
   "metadata": {},
   "outputs": [
    {
     "data": {
      "text/plain": [
       "10"
      ]
     },
     "execution_count": 53,
     "metadata": {},
     "output_type": "execute_result"
    }
   ],
   "source": [
    "len(spam_data)"
   ]
  },
  {
   "cell_type": "code",
   "execution_count": 54,
   "metadata": {},
   "outputs": [
    {
     "data": {
      "text/plain": [
       "15000"
      ]
     },
     "execution_count": 54,
     "metadata": {},
     "output_type": "execute_result"
    }
   ],
   "source": [
    "len(create_vocabulary(eham_data))"
   ]
  },
  {
   "cell_type": "code",
   "execution_count": null,
   "metadata": {},
   "outputs": [],
   "source": []
  }
 ],
 "metadata": {
  "kernelspec": {
   "display_name": "Python 3",
   "language": "python",
   "name": "python3"
  },
  "language_info": {
   "codemirror_mode": {
    "name": "ipython",
    "version": 3
   },
   "file_extension": ".py",
   "mimetype": "text/x-python",
   "name": "python",
   "nbconvert_exporter": "python",
   "pygments_lexer": "ipython3",
   "version": "3.5.2"
  }
 },
 "nbformat": 4,
 "nbformat_minor": 2
}
